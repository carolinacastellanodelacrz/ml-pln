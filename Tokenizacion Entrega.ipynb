{
 "cells": [
  {
   "cell_type": "markdown",
   "metadata": {},
   "source": [
    "![image info](https://raw.githubusercontent.com/albahnsen/MIAD_ML_and_NLP/main/images/banner_1.png)"
   ]
  },
  {
   "cell_type": "markdown",
   "metadata": {},
   "source": [
    "# Taller: Tokenización de textos  \n",
    "\n",
    "En este taller podrán poner en práctica sus conocimientos sobre preprocesamiento de texto (tokenización). El taller está constituido por 5 puntos, en los cuales deberan seguir las intrucciones de cada numeral para su desarrollo."
   ]
  },
  {
   "cell_type": "markdown",
   "metadata": {},
   "source": [
    "## Datos detección de toxicidad en comentarios\n",
    "\n",
    "En este taller se usará el conjunto de datos de detección de toxicidad en comentarios de la base de datos de Kaggle. Cada observación es un comentario que tiene como variable objetivo (target) la probabilidad de ser un comentario tóxico. El objetivo es predecir la toxicidad de cada comentario. Para más detalles pueden visitar el siguiente enlace: [datos](https://www.kaggle.com/c/jigsaw-unintended-bias-in-toxicity-classification/data)."
   ]
  },
  {
   "cell_type": "code",
   "execution_count": 1,
   "metadata": {},
   "outputs": [],
   "source": [
    "import warnings\n",
    "warnings.filterwarnings('ignore')"
   ]
  },
  {
   "cell_type": "code",
   "execution_count": 2,
   "metadata": {},
   "outputs": [],
   "source": [
    "# Importación librerías\n",
    "import pandas as pd\n",
    "import numpy as np\n",
    "import scipy as sp\n",
    "from sklearn.model_selection import train_test_split, cross_val_score\n",
    "from sklearn.feature_extraction.text import CountVectorizer, TfidfVectorizer\n",
    "from sklearn import metrics\n",
    "%matplotlib inline"
   ]
  },
  {
   "cell_type": "code",
   "execution_count": 3,
   "metadata": {},
   "outputs": [
    {
     "data": {
      "text/html": [
       "<div>\n",
       "<style scoped>\n",
       "    .dataframe tbody tr th:only-of-type {\n",
       "        vertical-align: middle;\n",
       "    }\n",
       "\n",
       "    .dataframe tbody tr th {\n",
       "        vertical-align: top;\n",
       "    }\n",
       "\n",
       "    .dataframe thead th {\n",
       "        text-align: right;\n",
       "    }\n",
       "</style>\n",
       "<table border=\"1\" class=\"dataframe\">\n",
       "  <thead>\n",
       "    <tr style=\"text-align: right;\">\n",
       "      <th></th>\n",
       "      <th>id</th>\n",
       "      <th>comment_text</th>\n",
       "      <th>target</th>\n",
       "    </tr>\n",
       "  </thead>\n",
       "  <tbody>\n",
       "    <tr>\n",
       "      <th>0</th>\n",
       "      <td>6101457</td>\n",
       "      <td>What are you talking about? What group do Pete...</td>\n",
       "      <td>0.0</td>\n",
       "    </tr>\n",
       "    <tr>\n",
       "      <th>1</th>\n",
       "      <td>5342103</td>\n",
       "      <td>NO!, Let him, we need a Conservative government.</td>\n",
       "      <td>0.0</td>\n",
       "    </tr>\n",
       "    <tr>\n",
       "      <th>2</th>\n",
       "      <td>743361</td>\n",
       "      <td>Perhaps he took the \"power out of the Cardinal...</td>\n",
       "      <td>0.2</td>\n",
       "    </tr>\n",
       "    <tr>\n",
       "      <th>3</th>\n",
       "      <td>551008</td>\n",
       "      <td>As always, yours is dripping with sarcasm, whi...</td>\n",
       "      <td>0.0</td>\n",
       "    </tr>\n",
       "    <tr>\n",
       "      <th>4</th>\n",
       "      <td>865998</td>\n",
       "      <td>The dirty little secret is that the price rang...</td>\n",
       "      <td>0.3</td>\n",
       "    </tr>\n",
       "  </tbody>\n",
       "</table>\n",
       "</div>"
      ],
      "text/plain": [
       "        id                                       comment_text  target\n",
       "0  6101457  What are you talking about? What group do Pete...     0.0\n",
       "1  5342103   NO!, Let him, we need a Conservative government.     0.0\n",
       "2   743361  Perhaps he took the \"power out of the Cardinal...     0.2\n",
       "3   551008  As always, yours is dripping with sarcasm, whi...     0.0\n",
       "4   865998  The dirty little secret is that the price rang...     0.3"
      ]
     },
     "execution_count": 3,
     "metadata": {},
     "output_type": "execute_result"
    }
   ],
   "source": [
    "# Carga de datos de archivos .csv\n",
    "df = pd.read_csv('https://raw.githubusercontent.com/albahnsen/MIAD_ML_and_NLP/main/datasets/Toxicity.zip')\n",
    "df = df[['id','comment_text', 'target']]\n",
    "df.head()"
   ]
  },
  {
   "cell_type": "code",
   "execution_count": 4,
   "metadata": {},
   "outputs": [
    {
     "data": {
      "text/plain": [
       "<Axes: >"
      ]
     },
     "execution_count": 4,
     "metadata": {},
     "output_type": "execute_result"
    },
    {
     "data": {
      "image/png": "[encoded data removed]",
      "text/plain": [
       "<Figure size 640x480 with 1 Axes>"
      ]
     },
     "metadata": {},
     "output_type": "display_data"
    }
   ],
   "source": [
    "# Impresión histograma de variable de interés (y)\n",
    "df.target.hist()"
   ]
  },
  {
   "cell_type": "code",
   "execution_count": 5,
   "metadata": {},
   "outputs": [
    {
     "data": {
      "text/plain": [
       "count    541462.000000\n",
       "mean          0.102991\n",
       "std           0.196979\n",
       "min           0.000000\n",
       "25%           0.000000\n",
       "50%           0.000000\n",
       "75%           0.166667\n",
       "max           1.000000\n",
       "Name: target, dtype: float64"
      ]
     },
     "execution_count": 5,
     "metadata": {},
     "output_type": "execute_result"
    }
   ],
   "source": [
    "# Separación de variable de interés (y)\n",
    "y = df.target\n",
    "y.describe()"
   ]
  },
  {
   "cell_type": "code",
   "execution_count": 6,
   "metadata": {},
   "outputs": [],
   "source": [
    "# Separación de variables predictoras (X), solo se considera el texto de la noticia\n",
    "X = df.comment_text"
   ]
  },
  {
   "cell_type": "code",
   "execution_count": 7,
   "metadata": {},
   "outputs": [],
   "source": [
    "# Separación de datos en set de entrenamiento y test\n",
    "X_train, X_test, y_train, y_test = train_test_split(X, y, test_size=0.33, random_state=42)"
   ]
  },
  {
   "cell_type": "markdown",
   "metadata": {},
   "source": [
    "## Punto 1 - Tokenización con CountVectorizer\n",
    "\n",
    "En la celda 1 creen y entrenen el modelo de regresión de su preferencia, para que prediga la probabilidad de que un comentario sea tóxico, usando los set de entrenamiento y test definidos anteriormente. Usen la función **CountVectorizer** para preprocesar los comentarios y presenten el desempeño del modelo con la métrica del MSE.\n",
    "\n",
    "Recuerden que el preprocesamiento que se haga sobre los datos de entrenamiento  (*.fit_transform()*) deben ser aplicado al set de test (*.transform()*)."
   ]
  },
  {
   "cell_type": "code",
   "execution_count": 8,
   "metadata": {},
   "outputs": [],
   "source": [
    "# Celda 1\n",
    "from sklearn.feature_extraction.text import CountVectorizer\n",
    "from sklearn.linear_model import LinearRegression\n",
    "from sklearn.metrics import mean_squared_error"
   ]
  },
  {
   "cell_type": "code",
   "execution_count": 9,
   "metadata": {},
   "outputs": [],
   "source": [
    "# Crear el vectorizador CountVectorizer\n",
    "vectorizer = CountVectorizer()"
   ]
  },
  {
   "cell_type": "code",
   "execution_count": 10,
   "metadata": {},
   "outputs": [],
   "source": [
    "# Aplicar CountVectorizer a los datos de entrenamiento y test\n",
    "X_train_count = vectorizer.fit_transform(X_train)\n",
    "X_test_count = vectorizer.transform(X_test)"
   ]
  },
  {
   "cell_type": "code",
   "execution_count": 11,
   "metadata": {},
   "outputs": [
    {
     "data": {
      "text/html": [
       "<style>#sk-container-id-1 {color: black;}#sk-container-id-1 pre{padding: 0;}#sk-container-id-1 div.sk-toggleable {background-color: white;}#sk-container-id-1 label.sk-toggleable__label {cursor: pointer;display: block;width: 100%;margin-bottom: 0;padding: 0.3em;box-sizing: border-box;text-align: center;}#sk-container-id-1 label.sk-toggleable__label-arrow:before {content: \"▸\";float: left;margin-right: 0.25em;color: #696969;}#sk-container-id-1 label.sk-toggleable__label-arrow:hover:before {color: black;}#sk-container-id-1 div.sk-estimator:hover label.sk-toggleable__label-arrow:before {color: black;}#sk-container-id-1 div.sk-toggleable__content {max-height: 0;max-width: 0;overflow: hidden;text-align: left;background-color: #f0f8ff;}#sk-container-id-1 div.sk-toggleable__content pre {margin: 0.2em;color: black;border-radius: 0.25em;background-color: #f0f8ff;}#sk-container-id-1 input.sk-toggleable__control:checked~div.sk-toggleable__content {max-height: 200px;max-width: 100%;overflow: auto;}#sk-container-id-1 input.sk-toggleable__control:checked~label.sk-toggleable__label-arrow:before {content: \"▾\";}#sk-container-id-1 div.sk-estimator input.sk-toggleable__control:checked~label.sk-toggleable__label {background-color: #d4ebff;}#sk-container-id-1 div.sk-label input.sk-toggleable__control:checked~label.sk-toggleable__label {background-color: #d4ebff;}#sk-container-id-1 input.sk-hidden--visually {border: 0;clip: rect(1px 1px 1px 1px);clip: rect(1px, 1px, 1px, 1px);height: 1px;margin: -1px;overflow: hidden;padding: 0;position: absolute;width: 1px;}#sk-container-id-1 div.sk-estimator {font-family: monospace;background-color: #f0f8ff;border: 1px dotted black;border-radius: 0.25em;box-sizing: border-box;margin-bottom: 0.5em;}#sk-container-id-1 div.sk-estimator:hover {background-color: #d4ebff;}#sk-container-id-1 div.sk-parallel-item::after {content: \"\";width: 100%;border-bottom: 1px solid gray;flex-grow: 1;}#sk-container-id-1 div.sk-label:hover label.sk-toggleable__label {background-color: #d4ebff;}#sk-container-id-1 div.sk-serial::before {content: \"\";position: absolute;border-left: 1px solid gray;box-sizing: border-box;top: 0;bottom: 0;left: 50%;z-index: 0;}#sk-container-id-1 div.sk-serial {display: flex;flex-direction: column;align-items: center;background-color: white;padding-right: 0.2em;padding-left: 0.2em;position: relative;}#sk-container-id-1 div.sk-item {position: relative;z-index: 1;}#sk-container-id-1 div.sk-parallel {display: flex;align-items: stretch;justify-content: center;background-color: white;position: relative;}#sk-container-id-1 div.sk-item::before, #sk-container-id-1 div.sk-parallel-item::before {content: \"\";position: absolute;border-left: 1px solid gray;box-sizing: border-box;top: 0;bottom: 0;left: 50%;z-index: -1;}#sk-container-id-1 div.sk-parallel-item {display: flex;flex-direction: column;z-index: 1;position: relative;background-color: white;}#sk-container-id-1 div.sk-parallel-item:first-child::after {align-self: flex-end;width: 50%;}#sk-container-id-1 div.sk-parallel-item:last-child::after {align-self: flex-start;width: 50%;}#sk-container-id-1 div.sk-parallel-item:only-child::after {width: 0;}#sk-container-id-1 div.sk-dashed-wrapped {border: 1px dashed gray;margin: 0 0.4em 0.5em 0.4em;box-sizing: border-box;padding-bottom: 0.4em;background-color: white;}#sk-container-id-1 div.sk-label label {font-family: monospace;font-weight: bold;display: inline-block;line-height: 1.2em;}#sk-container-id-1 div.sk-label-container {text-align: center;}#sk-container-id-1 div.sk-container {/* jupyter's `normalize.less` sets `[hidden] { display: none; }` but bootstrap.min.css set `[hidden] { display: none !important; }` so we also need the `!important` here to be able to override the default hidden behavior on the sphinx rendered scikit-learn.org. See: https://github.com/scikit-learn/scikit-learn/issues/21755 */display: inline-block !important;position: relative;}#sk-container-id-1 div.sk-text-repr-fallback {display: none;}</style><div id=\"sk-container-id-1\" class=\"sk-top-container\"><div class=\"sk-text-repr-fallback\"><pre>LinearRegression()</pre><b>In a Jupyter environment, please rerun this cell to show the HTML representation or trust the notebook. <br />On GitHub, the HTML representation is unable to render, please try loading this page with nbviewer.org.</b></div><div class=\"sk-container\" hidden><div class=\"sk-item\"><div class=\"sk-estimator sk-toggleable\"><input class=\"sk-toggleable__control sk-hidden--visually\" id=\"sk-estimator-id-1\" type=\"checkbox\" checked><label for=\"sk-estimator-id-1\" class=\"sk-toggleable__label sk-toggleable__label-arrow\">LinearRegression</label><div class=\"sk-toggleable__content\"><pre>LinearRegression()</pre></div></div></div></div></div>"
      ],
      "text/plain": [
       "LinearRegression()"
      ]
     },
     "execution_count": 11,
     "metadata": {},
     "output_type": "execute_result"
    }
   ],
   "source": [
    "# Crear y entrenar el modelo de regresión\n",
    "model = LinearRegression()\n",
    "model.fit(X_train_count, y_train)"
   ]
  },
  {
   "cell_type": "code",
   "execution_count": 12,
   "metadata": {},
   "outputs": [],
   "source": [
    "# Predecir sobre el conjunto de test\n",
    "y_pred = model.predict(X_test_count)"
   ]
  },
  {
   "cell_type": "code",
   "execution_count": 13,
   "metadata": {},
   "outputs": [
    {
     "name": "stdout",
     "output_type": "stream",
     "text": [
      "Mean Squared Error (MSE): 0.037224343197762196\n"
     ]
    }
   ],
   "source": [
    "# Calcular el MSE\n",
    "mse = mean_squared_error(y_test, y_pred)\n",
    "print(\"Mean Squared Error (MSE):\", mse)"
   ]
  },
  {
   "cell_type": "markdown",
   "metadata": {},
   "source": [
    "Se cargaron los datos proporcionados por la plataforma de comentarios civiles, y se hizo un preprocesamiento del texto. Posteriormente se construyó y ejecutó un modelo de regresión para predecir la probabilidad de toxicidad en los comentarios. Por otra parte, se imprimió un histograma de la variable objetivo para visualizar su distribución.\n",
    "\n",
    "Se utilizó CountVectorizer para tokenizar los comentarios y convertirlos y poder ser utilizados en el modelo de regresión, y se corrió el mismo con los datos de entrenamiento transformados. De igual manera se realizaron predicciones sobre el conjunto de prueba y se calculó el MSE utilizando las predicciones y los valores reales de la variable objetivo. El MSE obtenido indica la calidad del modelo de regresión en términos de cuán cerca están las predicciones del modelo de los valores reales. En este caso, el MSE es de aproximadamente 0.0372243, lo que sugiere que el modelo tiene un buen desempeño en la predicción de la probabilidad de toxicidad en los comentarios."
   ]
  },
  {
   "cell_type": "markdown",
   "metadata": {},
   "source": [
    "## Punto 2 - Tokenización con CountVectorizer y trigramas\n",
    "\n",
    "En la celda 2 creen y entrenen el mismo modelo de regresión del punto anterior (es decir si usaron un RandomForestRegresor usen nuevamente ese regresor), para que prediga la probabilidad de que un comentario sea tóxico, usando los set de entrenamiento y test definidos anteriormente. Usen la función CountVectorizer **considerando trigramas** para preprocesar los comentarios y presenten el desempeño del modelo con la métrica del MSE.\n",
    "\n",
    "Recuerden que el preprocesamiento que se haga sobre los datos de entrenamiento  (*.fit_transform()*) deben ser aplicado al set de test (*.transform()*)."
   ]
  },
  {
   "cell_type": "code",
   "execution_count": 14,
   "metadata": {},
   "outputs": [],
   "source": [
    "# Celda 2\n",
    "from sklearn.feature_extraction.text import CountVectorizer\n",
    "from sklearn.metrics import mean_squared_error"
   ]
  },
  {
   "cell_type": "code",
   "execution_count": 15,
   "metadata": {},
   "outputs": [
    {
     "name": "stdout",
     "output_type": "stream",
     "text": [
      "Mean Squared Error (MSE) con Trigramas: 0.03980335613865845\n"
     ]
    }
   ],
   "source": [
    "# Crear el vectorizador CountVectorizer con trigramas\n",
    "vec_trigr = CountVectorizer(ngram_range=(3, 3))\n",
    "\n",
    "# Aplicar CountVectorizer a los datos de entrenamiento y test\n",
    "X_train_trigr = vec_trigr.fit_transform(X_train)\n",
    "X_test_trigr = vec_trigr.transform(X_test)\n",
    "\n",
    "# Crear y entrenar el modelo de regresión\n",
    "model_trigr = LinearRegression()\n",
    "model_trigr.fit(X_train_trigr, y_train)\n",
    "\n",
    "# Predecir sobre el conjunto de test\n",
    "y_pred_trigr = model_trigr.predict(X_test_trigr)\n",
    "\n",
    "# Calcular el MSE\n",
    "mse_trigr = mean_squared_error(y_test, y_pred_trigr)\n",
    "print(\"Mean Squared Error (MSE) con Trigramas:\", mse_trigr)"
   ]
  },
  {
   "cell_type": "markdown",
   "metadata": {},
   "source": [
    "El MSE con triagramas dio un resultado de 0.0398, lo cual representa el error producido por el modelo al predecir la probabilidad de toxicidad en los comentarios. Debido a que el MSE utiliza el cuadrado de las diferencias, las diferencias entre las predicciones y los valores reales son penalizadas más severamente. Un MSE de 0.0398 implica que, en promedio, el cuadrado de la diferencia entre las predicciones y los valores reales es 0.0398.\n",
    "\n",
    "Observamos que el MSE aumenta ligeramente cuando se utilizan trigramas en el CountVectorizer para preprocesar los comentarios. Esto podría indicar que la inclusión de trigramas no necesariamente mejora el rendimiento del modelo de regresión lineal para este conjunto de dato."
   ]
  },
  {
   "cell_type": "code",
   "execution_count": 16,
   "metadata": {},
   "outputs": [
    {
     "data": {
      "image/png": "[encoded data removed]",
      "text/plain": [
       "<Figure size 1200x600 with 1 Axes>"
      ]
     },
     "metadata": {},
     "output_type": "display_data"
    }
   ],
   "source": [
    "import matplotlib.pyplot as plt\n",
    "\n",
    "# Visualización de predicciones\n",
    "plt.figure(figsize=(12, 6))\n",
    "plt.hist(y_pred, bins=50, alpha=0.75, label='Predicciones')\n",
    "plt.hist(y_test, bins=50, alpha=0.75, label='Valores reales')\n",
    "plt.xlabel('Probabilidad de Toxicidad')\n",
    "plt.ylabel('Frecuencia')\n",
    "plt.legend()\n",
    "plt.title('Distribución de las Probabilidades de Toxicidad - Predicciones vs Reales')\n",
    "plt.show()"
   ]
  },
  {
   "cell_type": "markdown",
   "metadata": {},
   "source": [
    "## Punto 3 - TfidfVectorizer\n",
    "\n",
    "Investigen sobre la función TfidfVectorizer. En la celda de texto 3, expliquen en qué consiste esta técnica de tokenización (describanla y expliquen su funcionamiento) y cúales son las ventajas o deventajas de su uso al compararlo con la función CountVectorizer."
   ]
  },
  {
   "cell_type": "markdown",
   "metadata": {},
   "source": [
    "#Celda 3\n",
    "### Funcionamiento de TfidfVectoriz\n",
    "\n",
    "- Term Frequency (TF - Frecuencia de Término): Calcula la frecuencia con la que aparece un término en un documento. Básicamente, es la proporción de apariciones de un término respecto al número total de términos en un documento.\n",
    "\n",
    "\n",
    "- Inverse Document Frequency (IDF - Frecuencia Inversa de Documento): Mide la rareza de un término en un conjunto de documentos. Los términos que aparecen en muchos documentos tienen un IDF bajo, mientras que los términos que aparecen en pocos documentos tienen un IDF alto. Se calcula como el logaritmo del cociente entre el número total de documentos y el número de documentos que contienen el término, con un ajuste de suavizado para evitar divisiones pc cero.\n",
    "\n",
    "\n",
    "- TF-IDF: Es el producto de TF y IDF. Cuanto mayor sea el valor de TF-IDF de un término en un documento, más importante es ese término para ese documento en patic\n",
    "ular.\n",
    "\n",
    "\n",
    "### Ventajas de TfidfVectorizer:\n",
    "- Considera la importancia de los términos: TfidfVectorizer asigna pesos a los términos en función de su importancia relativa en el documento y en el conjunto de documentos, lo que permite capturar mejor la semántica de los textos.\n",
    "\n",
    "\n",
    "- Reduce la importancia de términos comunes: Los términos que aparecen en muchos documentos pero que no aportan mucha información específica (como \"el\", \"de\", etc.) tienen un peso más bajo en TF-IDF, lo que ayuda a centrarse en términos ás relevantes.\n",
    "\n",
    "\n",
    "### Desventajas de TfidfVectorizer:\n",
    "- Más costoso computacionalmente: Calcular TF-IDF puede ser más costoso computacionalmente en comparación con CountVectorizer, especialmente en conjuntos de datos grandes, debido a la necesidad de calcular IDF para todos los términos.\n",
    "\n",
    "\n",
    "- Menos efectivo para textos cortos: En textos muy cortos, como tweets o encabezados de noticias, donde los términos son limitados, TF-IDF puede no ser tan efectivo debido a la falta desuficiente contexto.\n",
    "\n",
    "\n",
    "- En resumen, TfidfVectorizer es una técnica poderosa para representar documentos de texto, ya que tiene en cuenta tanto la frecuencia de los términos en un documento como su importancia en el conjunto de documentos. Sin embargo, puede ser más costoso computacionalmente y puede no ser tan efectivo en textos muy cortos. En contraste, CountVectorizer es más simple y rápido, pero no tiene en cuenta la importancia de los términos. La elección entre estas dos técnicas dependesidades específicas del problema y de los recursos computacionales disponibles.e de las nec"
   ]
  },
  {
   "cell_type": "markdown",
   "metadata": {},
   "source": [
    "## Punto 4 - Tokenización con TfidfVectorizer\n",
    "\n",
    "En la celda 4 creen y entrenen el mismo modelo de regresión del primer punto, para que prediga la probabilidad de que un comentario sea tóxico, usando los set de entrenamiento y test definidos anteriormente. Procesen los comentarios con la función **TfidfVectorizer** y presenten el desempeño del modelo con la métrica del MSE.\n",
    "\n",
    "Recuerden que el preprocesamiento que se haga sobre los datos de entrenamiento  (*.fit_transform()*) deben ser aplicado al set de test (*.transform()*)."
   ]
  },
  {
   "cell_type": "code",
   "execution_count": 17,
   "metadata": {},
   "outputs": [
    {
     "name": "stdout",
     "output_type": "stream",
     "text": [
      "Mean Squared Error (MSE) with TfidfVectorizer: 0.0280056191603927\n"
     ]
    }
   ],
   "source": [
    "# Celda 4\n",
    "from sklearn.feature_extraction.text import TfidfVectorizer\n",
    "\n",
    "# Crear el vectorizador TfidfVectorizer\n",
    "vectorizer_tfidf = TfidfVectorizer()\n",
    "\n",
    "# Aplicar TfidfVectorizer a los datos de entrenamiento y test\n",
    "X_train_tfidf = vectorizer_tfidf.fit_transform(X_train)\n",
    "X_test_tfidf = vectorizer_tfidf.transform(X_test)\n",
    "\n",
    "# Crear y entrenar el modelo de regresión lineal con los datos tokenizados por TfidfVectorizer\n",
    "model_tfidf = LinearRegression()\n",
    "model_tfidf.fit(X_train_tfidf, y_train)\n",
    "\n",
    "# Predecir sobre el conjunto de test\n",
    "y_pred_tfidf = model_tfidf.predict(X_test_tfidf)\n",
    "\n",
    "# Calcular el MSE\n",
    "mse_tfidf = mean_squared_error(y_test, y_pred_tfidf)\n",
    "print(\"Mean Squared Error (MSE) with TfidfVectorizer:\", mse_tfidf)"
   ]
  },
  {
   "cell_type": "markdown",
   "metadata": {},
   "source": [
    "## Punto 5 - Comparación y análisis de resultados\n",
    "\n",
    "En la celda 5 comparen los resultados obtenidos de los diferentes modelos y comenten cómo el preprocesamiento de texto afecta el desempeño."
   ]
  },
  {
   "cell_type": "code",
   "execution_count": 18,
   "metadata": {},
   "outputs": [],
   "source": [
    "# Celda 5"
   ]
  },
  {
   "cell_type": "markdown",
   "metadata": {},
   "source": [
    "Las diferentes técnicas de vectorización afectan el rendimiento y desempeño del modelo, lo cual pudimos ver en las variaciones del MSE. Los resultados obtenidos lineas arriba muestran como el preprocesamiento de texto puede afectar el desempeño de diferentes modelos, y esto a su vez la predicción de la probabilidad de toxicidad en los comentarios.\n",
    "\n",
    "A continuación los resultados por modelo:\n",
    "\n",
    "- CountVectorizer (unigramas):\n",
    "En este modelo, el MSE obtenido fue de 0.0372. Al utilizar unigramas, se consideró palabra por palabra, que si bien puede ser útil para identificar términos específicos, puede no interpretar el contexto del texto de manera amplia.\n",
    "\n",
    "- CountVectorizer (trigramas):\n",
    "El MSE obtenido fue ligeramente más alto que el modelo de unigramas: 0.0398. La inclusión de trigramas puede capturar mejor la estructura del texto, sin embargo, aumenta la dimensionalidad de los datos, lo que puede afectar la capacidad del modelo para generalizar.\n",
    "\n",
    "- TfidfVectorizer:\n",
    "El MSE obtenido fue el más bajo de los tres modelos, con un valor de 0.0280. TfidfVectorizer asigna pesos a los términos en función de su importancia relativa en el documento y en el conjunto de documentos, lo que permite capturar mejor la semántica del texto. Además, reduce la importancia de los términos comunes, lo que puede ayudar al modelo a enfocarse en términos más relevantes.\n",
    "En sintesis, el preprocesamiento de texto con técnicas como TfidfVectorizer puede mejorar significativamente el desempeño de un modelo de regresión en la tarea de predicción de toxicidad en comentarios.\n",
    "\n",
    "Dicho lo anterior, este último modelo (TfidfVectorizer) predijo más precisamente la probabilidad de que un comentario sea tóxico."
   ]
  }
 ],
 "metadata": {
  "kernelspec": {
   "display_name": "Python 3 (ipykernel)",
   "language": "python",
   "name": "python3"
  },
  "language_info": {
   "codemirror_mode": {
    "name": "ipython",
    "version": 3
   },
   "file_extension": ".py",
   "mimetype": "text/x-python",
   "name": "python",
   "nbconvert_exporter": "python",
   "pygments_lexer": "ipython3",
   "version": "3.11.5"
  },
  "name": "_merged"
 },
 "nbformat": 4,
 "nbformat_minor": 4
}
